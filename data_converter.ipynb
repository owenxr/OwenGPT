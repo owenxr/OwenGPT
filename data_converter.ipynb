{
 "cells": [
  {
   "cell_type": "code",
   "execution_count": null,
   "metadata": {},
   "outputs": [],
   "source": [
    "import csv\n",
    "import os\n",
    "import re\n",
    "import numpy as np"
   ]
  },
  {
   "cell_type": "code",
   "execution_count": null,
   "metadata": {},
   "outputs": [],
   "source": [
    "# Read contacts.csv and create a mapping from number to name\n",
    "contacts = {}\n",
    "names_substring = set()\n",
    "with open('contacts.csv', newline='') as csvfile:\n",
    "    reader = csv.DictReader(csvfile)\n",
    "    for row in reader:\n",
    "        contacts[row['number']] = row['name']\n",
    "        for name in row['name'].split(' '):\n",
    "            names_substring.add(name.lower().strip() + \" \")\n",
    "\n",
    "print(contacts)\n",
    "print(names_substring)"
   ]
  },
  {
   "cell_type": "code",
   "execution_count": null,
   "metadata": {},
   "outputs": [],
   "source": [
    "# Function to check if all numbers in a filename are in the contacts\n",
    "def numbers_in_contacts(filename):\n",
    "    numbers = re.findall(r'\\d+', filename)\n",
    "    return all(number in contacts for number in numbers) and len(numbers) == 1"
   ]
  },
  {
   "cell_type": "code",
   "execution_count": null,
   "metadata": {},
   "outputs": [],
   "source": [
    "def is_date_line(line):\n",
    "    # Check if the line starts with a date (not tabbed/indented)\n",
    "    return bool(re.match(r'^[A-Za-z]{3} \\d{2}, \\d{4}.*', line))"
   ]
  },
  {
   "cell_type": "code",
   "execution_count": null,
   "metadata": {},
   "outputs": [],
   "source": [
    "def clean_block(block):\n",
    "    return [m for m in block if m.strip() != '']\n",
    "\n",
    "def get_msg_blocks(lines):\n",
    "    msg_blocks = []\n",
    "\n",
    "    msg_block = []\n",
    "    for line in lines:\n",
    "        if is_date_line(line) and len(msg_block) >= 3:\n",
    "            msg_blocks.append(clean_block(msg_block))\n",
    "            msg_block = [line.rstrip()]\n",
    "        else:\n",
    "            msg_block.append(line.rstrip())\n",
    "\n",
    "    return msg_blocks"
   ]
  },
  {
   "cell_type": "code",
   "execution_count": null,
   "metadata": {},
   "outputs": [],
   "source": [
    "def ret_msg_content(sender_name, msg):\n",
    "    msg = msg[0].lower() + msg[1:]\n",
    "    return {'sender_name' : sender_name, 'content' : msg}\n",
    "\n",
    "remove_substring = []\n",
    "with open('params/remove_substrs.txt', 'r') as substrs:\n",
    "    lines = substrs.readlines()\n",
    "    for line in lines:\n",
    "        remove_substring.append(line.strip())\n",
    "\n",
    "# Message Dict\n",
    "def parse_msg(block):\n",
    "    sender_name = block[1]\n",
    "    msg = \"\"\n",
    "\n",
    "    if len(block) < 3:\n",
    "        \n",
    "        return None\n",
    "\n",
    "    if 'Me' in sender_name and any(substr in block[i].lower() for substr in remove_substring for i in range(2,len(block))):\n",
    "        return None\n",
    "    \n",
    "    if len(block) == 3:\n",
    "        msg = block[2]\n",
    "        return ret_msg_content(sender_name, msg)\n",
    "    else:\n",
    "\n",
    "        for i in range(2,len(block)):\n",
    "            if 'Edited' in block[i]:\n",
    "                msg = msg.join(block[i][block[i].find(':') + 1:].strip())\n",
    "                return ret_msg_content(sender_name, msg)\n",
    "\n",
    "        text_additions = ['Reactions', 'This message responded to an earlier message', 'Sent with']\n",
    "        for i in range(2,len(block)):\n",
    "            if any(mod in block[i] for mod in text_additions):\n",
    "                msg = msg.join(block[j] for j in range(2,i))\n",
    "                return ret_msg_content(sender_name, msg)\n",
    "            \n",
    "        msg = msg.join(block[i] for i in range(2,len(block)))\n",
    "        \n",
    "    return {'sender_name' : sender_name, 'content' : msg}\n",
    "\n",
    "# List of Messages\n",
    "def parse_text_chain(chain):\n",
    "    messages = []\n",
    "    block = []\n",
    "    blocks = []\n",
    "    for line in chain:\n",
    "        stripped_line = line.replace(\"    \", \"\").strip()\n",
    "        if is_date_line(stripped_line) and len(block) > 0:\n",
    "            blocks.append(clean_block(block))\n",
    "            block = [stripped_line]\n",
    "        else:\n",
    "            block.append(stripped_line)\n",
    "\n",
    "    blocks.append(block)\n",
    "\n",
    "    for msg_block in blocks:\n",
    "        if parse_msg(msg_block) == None:\n",
    "            return messages\n",
    "\n",
    "        messages.append(parse_msg(msg_block))\n",
    "\n",
    "    return messages\n",
    "        "
   ]
  },
  {
   "cell_type": "code",
   "execution_count": null,
   "metadata": {},
   "outputs": [],
   "source": [
    "# Function to parse a text file and extract messages\n",
    "\n",
    "def parse_text_file(filepath):\n",
    "    with open(filepath, 'r', encoding='utf-8') as file:\n",
    "        lines = file.readlines()\n",
    "\n",
    "    msg_blocks = get_msg_blocks(lines)\n",
    "\n",
    "    messages = []\n",
    "    for block in msg_blocks:\n",
    "        if any(m.startswith('    ') for m in block):\n",
    "            msgs = parse_text_chain(block)\n",
    "            if len(msgs) > 0:\n",
    "                messages.extend(msgs)\n",
    "        else:\n",
    "            msg = parse_msg(block)\n",
    "            if msg is not None:\n",
    "                messages.append(parse_msg(block))\n",
    "\n",
    "    return messages"
   ]
  },
  {
   "cell_type": "code",
   "execution_count": null,
   "metadata": {},
   "outputs": [],
   "source": [
    "# Iterate over files in the texts_txt directory\n",
    "for filename in os.listdir('texts_txt'):\n",
    "    messages = []\n",
    "    if filename.endswith('.txt') and numbers_in_contacts(filename):\n",
    "        filepath = os.path.join('texts_txt', filename)\n",
    "        messages.extend(parse_text_file(filepath))\n",
    "        with open(f'messages_{filename}.csv', 'w', newline='', encoding='utf-8') as csvfile:\n",
    "            fieldnames = ['sender_name', 'content']\n",
    "            writer = csv.DictWriter(csvfile, fieldnames=fieldnames)\n",
    "\n",
    "            writer.writeheader()\n",
    "            for message in messages:\n",
    "                writer.writerow(message)\n"
   ]
  }
 ],
 "metadata": {
  "kernelspec": {
   "display_name": ".venv",
   "language": "python",
   "name": "python3"
  },
  "language_info": {
   "codemirror_mode": {
    "name": "ipython",
    "version": 3
   },
   "file_extension": ".py",
   "mimetype": "text/x-python",
   "name": "python",
   "nbconvert_exporter": "python",
   "pygments_lexer": "ipython3",
   "version": "3.9.6"
  }
 },
 "nbformat": 4,
 "nbformat_minor": 2
}
